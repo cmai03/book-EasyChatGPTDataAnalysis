{
 "cells": [
  {
   "cell_type": "markdown",
   "metadata": {},
   "source": [
    "# 알기쉬운 챗GPT 생활 데이터 분석\n",
    "\n",
    "\n",
    "다음은 이 책의 **2부. 챗GPT 기술의 이해와 응용**의 예제코드 목록입니다.\n",
    "\n",
    "1. [Assistants API 소개](01-assistants_api_intro.ipynb)\n",
    "2. [Assistant Tool : Code Interpreter](02-tool-code_interpreter.ipynb)\n",
    "3. [Assistant Tool : File Search](03-tool-file_search.ipynb)\n",
    "4. [Assistant Tool : Function Calling](04-tool-function_calling.ipynb)"
   ]
  }
 ],
 "metadata": {
  "language_info": {
   "name": "python"
  }
 },
 "nbformat": 4,
 "nbformat_minor": 2
}
