{
  "cells": [
    {
      "cell_type": "code",
      "execution_count": 2,
      "metadata": {
        "colab": {
          "base_uri": "https://localhost:8080/"
        },
        "id": "lQ_XqwsIpW6o",
        "outputId": "59453b63-330b-46c7-fabc-2717ea639759"
      },
      "outputs": [
        {
          "output_type": "stream",
          "name": "stdout",
          "text": [
            "> 구글 코랩의 보안 비밀에서 OPENAI_API_KEY를 불러옵니다.\n"
          ]
        }
      ],
      "source": [
        "# OpenAI API Key 정의\n",
        "# **주의!** OpenAI API Key 는 외부에 노출하지 않도록 주의한다.\n",
        "# 4월 17일 이후에는 이전에 사용하던 사용자 키(User Key)보다 프로젝트별로 구분할 수 있는 프로젝트 키(Project Key)를 활용하는 것을 권장\n",
        "# 일반적으로 시스템의 환경변수에 숨겨놓고 소스코드에는 노출하지 않지만,\n",
        "# 해당 과정은 파이썬 활용에 관한 내용이므로 예제에서는 생략한다.\n",
        "# [모델 문서](https://platform.openai.com/docs/models)에는 사용가능한 모델의 이름이 나열되어있고, OpenAI에서 모델을 업데이트할 때마다 이곳에 명시하므로 자주 확인하면 좋다.\n",
        "\n",
        "try:\n",
        "    from google.colab import userdata\n",
        "    OPENAI_API_KEY = userdata.get('OPENAI_API_KEY')\n",
        "    print(f\"> 구글 코랩의 보안 비밀에서 OPENAI_API_KEY를 불러옵니다.\")\n",
        "\n",
        "except:\n",
        "    OPENAI_API_KEY = \"YOUR_OPENAI_PROJECT_KEY\"\n",
        "    print(f\"> 로컬 환경에서 설정한 OPENAI_API_KEY를 사용합니다.\")\n",
        "\n",
        "# OPENAI_MODEL = \"gpt-4-turbo\"\n",
        "OPENAI_MODEL = \"gpt-4o\""
      ]
    },
    {
      "cell_type": "code",
      "execution_count": 3,
      "metadata": {
        "colab": {
          "base_uri": "https://localhost:8080/"
        },
        "id": "M-mdbGagpW6s",
        "outputId": "fac2a177-239d-44c6-8c17-329ccbb931a9"
      },
      "outputs": [
        {
          "output_type": "stream",
          "name": "stdout",
          "text": [
            ">> 예제는 2024-04-17 update 버전을 기준으로 작성하였습니다. 현재 버전 (1.61.1)\n"
          ]
        }
      ],
      "source": [
        "# OpenAI API 패키지 import\n",
        "try:\n",
        "    import openai\n",
        "\n",
        "except ModuleNotFoundError:\n",
        "    # OpenAI API 패키지 설치\n",
        "    !pip install openai yfinance nest-asyncio python-weather pandas\n",
        "\n",
        "finally:\n",
        "    import openai\n",
        "\n",
        "if \"1.23.1\" != openai.VERSION:\n",
        "    print(f\">> 예제는 2024-04-17 update 버전을 기준으로 작성하였습니다. 현재 버전 ({openai.VERSION})\")"
      ]
    },
    {
      "cell_type": "markdown",
      "metadata": {
        "id": "W3eHDeI9pW6t"
      },
      "source": [
        "### [Assistants Tool] Function Calling\n",
        "\n",
        "어시스턴트가 OpenAI 외부에서 호스팅하는 함수를 호출하여 그 결과를 제공"
      ]
    },
    {
      "cell_type": "code",
      "source": [
        "!pip install python_weather"
      ],
      "metadata": {
        "colab": {
          "base_uri": "https://localhost:8080/"
        },
        "id": "2t1EJRY7qkFv",
        "outputId": "3e495fcd-84af-4fca-c04e-bd2a035eafc7"
      },
      "execution_count": 5,
      "outputs": [
        {
          "output_type": "stream",
          "name": "stdout",
          "text": [
            "Collecting python_weather\n",
            "  Downloading python_weather-2.0.7-py3-none-any.whl.metadata (4.1 kB)\n",
            "Requirement already satisfied: aiohttp>=3.10.10 in /usr/local/lib/python3.11/dist-packages (from python_weather) (3.11.13)\n",
            "Requirement already satisfied: aiohappyeyeballs>=2.3.0 in /usr/local/lib/python3.11/dist-packages (from aiohttp>=3.10.10->python_weather) (2.5.0)\n",
            "Requirement already satisfied: aiosignal>=1.1.2 in /usr/local/lib/python3.11/dist-packages (from aiohttp>=3.10.10->python_weather) (1.3.2)\n",
            "Requirement already satisfied: attrs>=17.3.0 in /usr/local/lib/python3.11/dist-packages (from aiohttp>=3.10.10->python_weather) (25.1.0)\n",
            "Requirement already satisfied: frozenlist>=1.1.1 in /usr/local/lib/python3.11/dist-packages (from aiohttp>=3.10.10->python_weather) (1.5.0)\n",
            "Requirement already satisfied: multidict<7.0,>=4.5 in /usr/local/lib/python3.11/dist-packages (from aiohttp>=3.10.10->python_weather) (6.1.0)\n",
            "Requirement already satisfied: propcache>=0.2.0 in /usr/local/lib/python3.11/dist-packages (from aiohttp>=3.10.10->python_weather) (0.3.0)\n",
            "Requirement already satisfied: yarl<2.0,>=1.17.0 in /usr/local/lib/python3.11/dist-packages (from aiohttp>=3.10.10->python_weather) (1.18.3)\n",
            "Requirement already satisfied: idna>=2.0 in /usr/local/lib/python3.11/dist-packages (from yarl<2.0,>=1.17.0->aiohttp>=3.10.10->python_weather) (3.10)\n",
            "Downloading python_weather-2.0.7-py3-none-any.whl (17 kB)\n",
            "Installing collected packages: python_weather\n",
            "Successfully installed python_weather-2.0.7\n"
          ]
        }
      ]
    },
    {
      "cell_type": "code",
      "execution_count": 8,
      "metadata": {
        "colab": {
          "base_uri": "https://localhost:8080/"
        },
        "id": "n9Rp0HFwpW6u",
        "outputId": "82caa377-6a09-41e0-f68f-8580d6dd2127"
      },
      "outputs": [
        {
          "output_type": "stream",
          "name": "stdout",
          "text": [
            "2025-03-14 12:22:08.196097+09:00\n",
            "{'current_weather': {'contry': 'South Korea', 'humidity': 23, 'feels_like': 10, 'ultraviolet': 'Low', 'visibility': 10, 'pressure': 1027.0, 'kind': 'Sunny', 'wind_direction': 'North Northeast', 'wind_speed': 8, 'description': 'Sunny', 'unit': '<Unit [C, Kmph]>'}, 'daily_forecast': [{'date': '2025-03-14', 'higist_temperature': 17, 'lowest_temperature': 6, 'sunrise': '06:45:00', 'sunset': '18:38:00', 'unit': '<Unit [C, Kmph]>'}, {'date': '2025-03-15', 'higist_temperature': 15, 'lowest_temperature': 9, 'sunrise': '06:43:00', 'sunset': '18:39:00', 'unit': '<Unit [C, Kmph]>'}, {'date': '2025-03-16', 'higist_temperature': 7, 'lowest_temperature': 3, 'sunrise': '06:42:00', 'sunset': '18:40:00', 'unit': '<Unit [C, Kmph]>'}]}\n",
            "{'maxAge': 86400, 'priceHint': 4, 'previousClose': 1452.67, 'open': 1452.67, 'dayLow': 1452.38, 'dayHigh': 1456.48, 'regularMarketPreviousClose': 1452.67, 'regularMarketOpen': 1452.67, 'regularMarketDayLow': 1452.38, 'regularMarketDayHigh': 1456.48, 'volume': 0, 'regularMarketVolume': 0, 'averageVolume': 0, 'averageVolume10days': 0, 'averageDailyVolume10Day': 0, 'bid': 1454.08, 'ask': 1455.08, 'bidSize': 0, 'askSize': 0, 'fiftyTwoWeekLow': 1302.8, 'fiftyTwoWeekHigh': 1487.04, 'fiftyDayAverage': 1446.552, 'twoHundredDayAverage': 1393.7152, 'currency': 'KRW', 'tradeable': False, 'quoteType': 'CURRENCY', 'symbol': 'KRW=X', 'language': 'en-US', 'region': 'US', 'typeDisp': 'Currency', 'quoteSourceName': 'Delayed Quote', 'triggerable': True, 'customPriceAlertConfidence': 'HIGH', 'shortName': 'USD/KRW', 'longName': 'USD/KRW', 'regularMarketChange': 1.2099609, 'regularMarketChangePercent': 0.08328647, 'regularMarketPrice': 1453.88, 'messageBoardId': 'finmb_KRW_X', 'exchangeTimezoneName': 'Europe/London', 'exchangeTimezoneShortName': 'GMT', 'gmtOffSetMilliseconds': 0, 'market': 'ccy_market', 'esgPopulated': False, 'hasPrePostMarketData': False, 'firstTradeDateMilliseconds': 1070236800000, 'regularMarketDayRange': '1452.38 - 1456.48', 'fullExchangeName': 'CCY', 'averageDailyVolume3Month': 0, 'fiftyTwoWeekLowChange': 151.07996, 'fiftyTwoWeekLowChangePercent': 0.115965575, 'fiftyTwoWeekRange': '1302.8 - 1487.04', 'fiftyTwoWeekHighChange': -33.160034, 'fiftyTwoWeekHighChangePercent': -0.022299355, 'fiftyTwoWeekChangePercent': 9.594381, 'corporateActions': [], 'regularMarketTime': 1741922527, 'exchange': 'CCY', 'fiftyDayAverageChange': 7.328003, 'fiftyDayAverageChangePercent': 0.005065841, 'twoHundredDayAverageChange': 60.164795, 'twoHundredDayAverageChangePercent': 0.04316864, 'sourceInterval': 15, 'exchangeDataDelayedBy': 0, 'cryptoTradeable': False, 'marketState': 'REGULAR', 'trailingPegRatio': None}\n"
          ]
        }
      ],
      "source": [
        "import datetime\n",
        "import yfinance as yf\n",
        "import nest_asyncio\n",
        "import asyncio\n",
        "import python_weather\n",
        "\n",
        "import json\n",
        "import pandas as pd\n",
        "from pytz import timezone\n",
        "\n",
        "# 0. 서비스 함수 준비; 현재 지역의 날씨, 주식 티커 정보, 현재 시각\n",
        "def get_weather(city:str) -> dict:\n",
        "    nest_asyncio.apply()\n",
        "    async def fetch_weekly_weather(city) -> dict:\n",
        "        client = python_weather.Client(unit=python_weather.METRIC)\n",
        "\n",
        "        weather = await client.get(city)\n",
        "\n",
        "        retval = {\n",
        "            \"current_weather\" : {\n",
        "                \"contry\": weather.country,\n",
        "                \"humidity\": weather.humidity,\n",
        "                \"feels_like\": weather.feels_like,\n",
        "                \"ultraviolet\": str(weather.ultraviolet),\n",
        "                \"visibility\": weather.visibility,\n",
        "                \"pressure\": weather.pressure,\n",
        "                \"kind\": str(weather.kind),\n",
        "                \"wind_direction\": str(weather.wind_direction),\n",
        "                \"wind_speed\": weather.wind_speed,\n",
        "                \"description\": weather.description,\n",
        "                \"unit\": str(client.unit),\n",
        "            },\n",
        "            \"daily_forecast\": []\n",
        "        }\n",
        "\n",
        "        for forecast in weather.daily_forecasts:\n",
        "            retval[\"daily_forecast\"].append({\n",
        "                \"date\": str(forecast.date),\n",
        "                \"higist_temperature\": forecast.highest_temperature,\n",
        "                \"lowest_temperature\": forecast.lowest_temperature,\n",
        "                \"sunrise\": str(forecast.sunrise),\n",
        "                \"sunset\": str(forecast.sunset),\n",
        "                \"unit\": str(client.unit)\n",
        "            })\n",
        "\n",
        "        await client.close()\n",
        "        return retval\n",
        "\n",
        "    return asyncio.run(fetch_weekly_weather(city))\n",
        "\n",
        "def get_stock_ticker_informations(ticker_symbol:str) -> str:\n",
        "    return yf.Ticker(ticker_symbol).info\n",
        "\n",
        "def get_current_time() -> str:\n",
        "    return str(datetime.datetime.now(timezone('Asia/Seoul')))\n",
        "\n",
        "print(get_current_time())\n",
        "print(get_weather(\"Seoul\"))\n",
        "print(get_stock_ticker_informations(\"KRW=x\"))"
      ]
    },
    {
      "cell_type": "code",
      "execution_count": null,
      "metadata": {
        "id": "m4ZE070bpW6w",
        "outputId": "8831e4dc-2801-4f8e-fc4e-e344ee699da2"
      },
      "outputs": [
        {
          "name": "stdout",
          "output_type": "stream",
          "text": [
            "{'ticker_symbol': 'AAPL'}\n",
            "{'ticker_symbol': 'MSFT'}\n",
            "{'ticker_symbol': '005930.KS'}\n",
            "{'ticker_symbol': 'USDKRW=X'}\n",
            "도구 출력이 성공적으로 제출되었습니다.\n",
            "msg_S0ndLhqZw8zs1B40FrjTXxhs\n",
            "**현재 시간 및 서울 날씨 정보:**\n",
            "- 현재 시간: 2024년 4월 22일 23시 50분 24초\n",
            "- 서울의 날씨: 맑음\n",
            "- 현재 온도: 20°C (체감 온도 20°C)\n",
            "- 최고기온: 22°C, 최저기온: 14°C\n",
            "- 습도: 46%\n",
            "- 바람: 동풍 20 km/h\n",
            "\n",
            "**주식 정보:**\n",
            "1. **애플 (AAPL)**\n",
            "   - 현재가: $165.35\n",
            "   - 오늘 개장가: $165.75\n",
            "   - 오늘 최고가: $166.23, 최저가: $165.23\n",
            "   - 시가총액: 약 $2.553조\n",
            "\n",
            "2. **마이크로소프트 (MSFT)**\n",
            "   - 현재가: $397.96\n",
            "   - 오늘 개장가: $400.188\n",
            "   - 오늘 최고가: $402.5, 최저가: $397.56\n",
            "   - 시가총액: 약 $2.957조\n",
            "\n",
            "3. **삼성전자 (005930.KS)**\n",
            "   - 현재가: 76,100원\n",
            "   - 오늘 개장가: 77,400원\n",
            "   - 오늘 최고가: 77,500원, 최저가: 75,100원\n",
            "   - 시가총액: 약 506.91조 원\n",
            "\n",
            "4. **원-달러 환율 (USDKRW=X)**\n",
            "   - 현재 환율: 1,378.30 KRW\n",
            "   - 오늘 최고: 1,382.94 KRW, 최저: 1,373.57 KRW\n",
            "\n",
            "이상 요청하신 정보입니다. 추가적인 질문이나 필요한 정보가 있으면 말씀해주세요.\n",
            "assistant deleted: True\n",
            "thread deleted: True\n"
          ]
        }
      ],
      "source": [
        "from openai import OpenAI\n",
        "client = OpenAI(api_key=OPENAI_API_KEY)\n",
        "\n",
        "# 1. 스레드 생성\n",
        "thread = client.beta.threads.create()\n",
        "\n",
        "# 2. 어시스턴트 생성; 함수 호출 도구 추가\n",
        "assistant = client.beta.assistants.create(\n",
        "    name=\"생활 정보 알리미\",\n",
        "    instructions=\"\"\"\n",
        "        당신은 나의 생활 정보 알리미입니다.\n",
        "        제가 요청하는 정보를 제공한 함수를 적절히 활용해서 알려주세요.\n",
        "        \"\"\",\n",
        "    model=OPENAI_MODEL,\n",
        "    tools=[\n",
        "        {\n",
        "            \"type\": \"function\",\n",
        "            \"function\": {\n",
        "                \"name\": \"get_weather\",\n",
        "                \"description\": \"특정 도시의 날씨 정보를 조회합니다.\",\n",
        "                \"parameters\": {\n",
        "                    \"type\": \"object\",\n",
        "                    \"properties\": {\n",
        "                        \"city\": {\n",
        "                            \"type\": \"string\",\n",
        "                            \"description\": \"날씨 정보를 조회할 도시의 영문이름, e.g. Seoul\"\n",
        "                        }\n",
        "                    },\n",
        "                    \"required\": [\"city\"]\n",
        "                }\n",
        "            }\n",
        "        },\n",
        "        {\n",
        "            \"type\": \"function\",\n",
        "            \"function\": {\n",
        "                \"name\": \"get_stock_ticker_informations\",\n",
        "                \"description\": \"기업의 주식 정보를 조회합니다.\",\n",
        "                \"parameters\": {\n",
        "                    \"type\": \"object\",\n",
        "                    \"properties\": {\n",
        "                        \"ticker_symbol\": {\n",
        "                            \"type\": \"string\",\n",
        "                            \"description\": \"조회할 기업의 티커 심볼, e.g. AAPL\"\n",
        "                        }\n",
        "                    },\n",
        "                    \"required\": [\"ticker_symbol\"]\n",
        "                }\n",
        "            }\n",
        "        },\n",
        "        {\n",
        "            \"type\": \"function\",\n",
        "            \"function\": {\n",
        "                \"name\": \"get_current_time\",\n",
        "                \"description\": \"현재 시간을 조회 합니다.\",\n",
        "                \"parameters\": {}\n",
        "            }\n",
        "        }\n",
        "    ]\n",
        ")\n",
        "\n",
        "# 3. 사용자 메시지 생성\n",
        "message = client.beta.threads.messages.create(\n",
        "    thread_id=thread.id,\n",
        "    role=\"user\",\n",
        "    content=\"\"\"\n",
        "        현재 시간과, 서울의 날씨를 알려주세요.\n",
        "        그리고, 주식 시장의 애플, 마이크로소프트, 삼성전자, 원-달러 환율을 조회해서 알려주세요.\n",
        "        \"\"\"\n",
        ")\n",
        "\n",
        "# 4. 런 생성 및 결과 대기\n",
        "run = client.beta.threads.runs.create_and_poll(\n",
        "    thread_id=thread.id,\n",
        "    assistant_id=assistant.id\n",
        ")\n",
        "\n",
        "# 5. 런 상태 확인 및 함수 호출\n",
        "if \"requires_action\" == run.status:\n",
        "    tool_outputs = []\n",
        "\n",
        "    # 어시스턴트가 요청하는 함수를 호출하고, 결과를 ID와 함께 생성\n",
        "    for tool in run.required_action.submit_tool_outputs.tool_calls:\n",
        "        function_name = tool.function.name\n",
        "        args = json.loads(tool.function.arguments)\n",
        "\n",
        "        if \"get_weather\" == function_name:\n",
        "            tool_outputs.append({\n",
        "                \"tool_call_id\": tool.id,\n",
        "                \"output\": json.dumps(get_weather(**args))\n",
        "            })\n",
        "        elif \"get_stock_ticker_informations\" == function_name:\n",
        "            print(args)\n",
        "            tool_outputs.append({\n",
        "                \"tool_call_id\": tool.id,\n",
        "                \"output\": json.dumps(get_stock_ticker_informations(**args))\n",
        "            })\n",
        "        elif \"get_current_time\" == function_name:\n",
        "            tool_outputs.append({\n",
        "                \"tool_call_id\": tool.id,\n",
        "                \"output\": json.dumps(get_current_time())\n",
        "            })\n",
        "\n",
        "    # 어시스턴트에 함수 호출 결과 전달\n",
        "    if tool_outputs:\n",
        "        try:\n",
        "            run = client.beta.threads.runs.submit_tool_outputs_and_poll(\n",
        "                thread_id=thread.id,\n",
        "                run_id=run.id,\n",
        "                tool_outputs=tool_outputs\n",
        "            )\n",
        "            print(\"도구 출력이 성공적으로 제출되었습니다.\")\n",
        "\n",
        "        except Exception as e:\n",
        "            print(\"도구 결과물을 제출하지 못했습니다.:\", e)\n",
        "\n",
        "# 6. 런 스탭 내용 확인\n",
        "if \"completed\" == run.status:\n",
        "    run_steps = client.beta.threads.runs.steps.list(\n",
        "        thread_id=thread.id,\n",
        "        run_id=run.id,\n",
        "        order=\"asc\"\n",
        "    )\n",
        "\n",
        "    df_run_steps = pd.DataFrame([data.__dict__ for data in run_steps.data])\n",
        "\n",
        "    for details in df_run_steps[\"step_details\"]:\n",
        "        if \"message_creation\" == details.type:\n",
        "            msgid = details.message_creation.message_id\n",
        "            print(msgid)\n",
        "            msg = client.beta.threads.messages.retrieve(\n",
        "                thread_id=thread.id,\n",
        "                message_id=msgid\n",
        "            )\n",
        "            for content in msg.content:\n",
        "                print(content.text.value)\n",
        "\n",
        "else:\n",
        "    print(run.status)\n",
        "\n",
        "\n",
        "# 6. 어시스턴트 삭제\n",
        "res = client.beta.assistants.delete(\n",
        "    assistant_id=assistant.id\n",
        ")\n",
        "print(f\"assistant deleted: {res.deleted}\")\n",
        "\n",
        "# 7. 스레드 삭제\n",
        "res = client.beta.threads.delete(\n",
        "    thread_id=thread.id\n",
        ")\n",
        "print(f\"thread deleted: {res.deleted}\")\n"
      ]
    }
  ],
  "metadata": {
    "kernelspec": {
      "display_name": "Python 3 (ipykernel)",
      "language": "python",
      "name": "python3"
    },
    "language_info": {
      "codemirror_mode": {
        "name": "ipython",
        "version": 3
      },
      "file_extension": ".py",
      "mimetype": "text/x-python",
      "name": "python",
      "nbconvert_exporter": "python",
      "pygments_lexer": "ipython3",
      "version": "3.11.9"
    },
    "colab": {
      "provenance": []
    }
  },
  "nbformat": 4,
  "nbformat_minor": 0
}