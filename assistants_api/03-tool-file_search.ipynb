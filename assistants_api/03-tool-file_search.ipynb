{
 "cells": [
  {
   "cell_type": "code",
   "execution_count": 7,
   "metadata": {},
   "outputs": [
    {
     "name": "stdout",
     "output_type": "stream",
     "text": [
      "> 로컬 환경에서 설정한 OPENAI_API_KEY를 사용합니다.\n"
     ]
    }
   ],
   "source": [
    "# OpenAI API Key 정의\n",
    "# **주의!** OpenAI API Key 는 외부에 노출하지 않도록 주의한다. \n",
    "# 4월 17일 이후에는 이전에 사용하던 사용자 키(User Key)보다 프로젝트별로 구분할 수 있는 프로젝트 키(Project Key)를 활용하는 것을 권장\n",
    "# 일반적으로 시스템의 환경변수에 숨겨놓고 소스코드에는 노출하지 않지만, \n",
    "# 해당 과정은 파이썬 활용에 관한 내용이므로 예제에서는 생략한다.\n",
    "# [모델 문서](https://platform.openai.com/docs/models)에는 사용가능한 모델의 이름이 나열되어있고, OpenAI에서 모델을 업데이트할 때마다 이곳에 명시하므로 자주 확인하면 좋다.\n",
    "\n",
    "try:\n",
    "    from google.colab import userdata\n",
    "    OPENAI_API_KEY = userdata.get('OPENAI_API_KEY')\n",
    "    print(f\"> 구글 코랩의 보안 비밀에서 OPENAI_API_KEY를 불러옵니다.\")\n",
    "\n",
    "except:\n",
    "    OPENAI_API_KEY = \"YOUR_OPENAI_PROJECT_KEY\"\n",
    "    print(f\"> 로컬 환경에서 설정한 OPENAI_API_KEY를 사용합니다.\")\n",
    "\n",
    "OPENAI_MODEL = \"gpt-4-turbo\""
   ]
  },
  {
   "cell_type": "code",
   "execution_count": 2,
   "metadata": {},
   "outputs": [
    {
     "name": "stdout",
     "output_type": "stream",
     "text": [
      ">> 예제는 2024-04-17 update 버전을 기준으로 작성하였습니다. 현재 버전 (1.30.1)\n"
     ]
    }
   ],
   "source": [
    "# OpenAI API 패키지 import\n",
    "try:\n",
    "    import openai\n",
    "\n",
    "except ModuleNotFoundError:\n",
    "    # OpenAI API 패키지 설치\n",
    "    !pip install openai pandas\n",
    "\n",
    "finally:\n",
    "    import openai\n",
    "\n",
    "if \"1.23.1\" != openai.VERSION:\n",
    "    print(f\">> 예제는 2024-04-17 update 버전을 기준으로 작성하였습니다. 현재 버전 ({openai.VERSION})\")"
   ]
  },
  {
   "cell_type": "markdown",
   "metadata": {},
   "source": [
    "### [Assistants Tool] File Search\n",
    "\n",
    "이 도구는 어시스턴트가 업로드한 파일들의 내용을 참고하여 사용자의 요청에 응답할 수 있는 기능 제공\n",
    "\n",
    "⚠️\"파일 검색(File Search)\" 도구는 기존의 \"지식 검색(Knowledge Retrieval)\" 기능을 발전시켜 2024년 4월에 새롭게 변경되었다."
   ]
  },
  {
   "cell_type": "code",
   "execution_count": 3,
   "metadata": {},
   "outputs": [
    {
     "name": "stdout",
     "output_type": "stream",
     "text": [
      "datafiles/[LG전자]사업보고서(2024.03.18).pdf : already uploaded.\n",
      "datafiles/[삼성전자]사업보고서(2024.03.12).pdf : already uploaded.\n",
      "datafiles/[현대자동차]사업보고서(2024.03.13).pdf : already uploaded.\n",
      "datafiles/alphabet-10-k-2023.pdf : already uploaded.\n",
      "datafiles/amd-10-k-2023.pdf : already uploaded.\n",
      "datafiles/apple-10-k-2023.pdf : already uploaded.\n",
      "datafiles/nvidia-10-k-2023.pdf : already uploaded.\n",
      "사업보고서 및 재무제표 : already created.\n",
      "vs_afoIBC1a06w8uYFJ3wrgUeEf : retrieved.\n"
     ]
    }
   ],
   "source": [
    "from pathlib import Path\n",
    "import pandas as pd\n",
    "\n",
    "from openai import OpenAI\n",
    "client = OpenAI(api_key=OPENAI_API_KEY)\n",
    "\n",
    "# 0. 데이터 파일 업로드 및 벡터 저장소 구성\n",
    "report_files = [\n",
    "    \"datafiles/[LG전자]사업보고서(2024.03.18).pdf\",\n",
    "    \"datafiles/[삼성전자]사업보고서(2024.03.12).pdf\",\n",
    "    \"datafiles/[현대자동차]사업보고서(2024.03.13).pdf\",\n",
    "    \"datafiles/alphabet-10-k-2023.pdf\",\n",
    "    \"datafiles/amd-10-k-2023.pdf\",\n",
    "    \"datafiles/apple-10-k-2023.pdf\",\n",
    "    \"datafiles/nvidia-10-k-2023.pdf\"\n",
    "]\n",
    "\n",
    "# 같은 파일을 중복 업로드하는 것을 방지하기 위해 목록에 없는 파일만 업로드한다.\n",
    "filelist = [file.filename for file in client.files.list().data]\n",
    "\n",
    "for filepath in report_files:\n",
    "    if Path(filepath).name not in filelist:\n",
    "        file = client.files.create(\n",
    "            file=open(filepath, \"rb\"),\n",
    "            purpose=\"assistants\"\n",
    "        )\n",
    "        print(f\"{filepath} : {file.id}\")\n",
    "    else:\n",
    "        print(f\"{filepath} : already uploaded.\")\n",
    "\n",
    "\n",
    "name_vector_store = \"사업보고서 및 재무제표\"\n",
    "\n",
    "# 같은 벡터 저장소를 생성하지 않도록 벡터 저장소 목록을 확인한다.\n",
    "vector_store_dict = {vs.id : vs.name for vs in client.beta.vector_stores.list()}\n",
    "\n",
    "if name_vector_store not in vector_store_dict.values():\n",
    "    file_list = client.files.list(purpose=\"assistants\")\n",
    "   \n",
    "    df_files = pd.DataFrame([data.__dict__ for data in file_list.data])\n",
    "    df_filtered = df_files[df_files['filename'].str.contains('사업보고서|10-k', case=False)]\n",
    "    file_ids = df_filtered[\"id\"].to_list()\n",
    "\n",
    "    vector_store = client.beta.vector_stores.create(\n",
    "        name=name_vector_store,\n",
    "        file_ids=file_ids\n",
    "    )\n",
    "else:\n",
    "    # 이미 같은 이름의 벡터 저장소가 있다면 첫 번째 벡터 저장소를 활용한다.\n",
    "    print(f\"{name_vector_store} : already created.\")\n",
    "    vsid = [key for key, value in vector_store_dict.items() if value == name_vector_store][0]\n",
    "    vector_store = client.beta.vector_stores.retrieve(vector_store_id=vsid)\n",
    "    print(f\"{vector_store.id} : retrieved.\")"
   ]
  },
  {
   "cell_type": "code",
   "execution_count": 4,
   "metadata": {},
   "outputs": [],
   "source": [
    "# 1. 스레드 생성\n",
    "thread = client.beta.threads.create()\n",
    "\n",
    "# 2. 어시스턴트 생성; 파일 검색 도구 추가 \n",
    "assistant = client.beta.assistants.create(\n",
    "    name=\"재무 분석 전문가\",\n",
    "    instructions=\"\"\"\n",
    "        당신은 재무 분석 전문가입니다. 제공한 사업보고서 및 재무제표 정보를 바탕으로 질문에 답하시오.\n",
    "        \"\"\",\n",
    "    model=OPENAI_MODEL,\n",
    "    tools=[{\"type\": \"file_search\"}],\n",
    "    tool_resources={     \n",
    "        \"file_search\": {\n",
    "            \"vector_store_ids\": [vector_store.id]\n",
    "        }\n",
    "    }\n",
    ")"
   ]
  },
  {
   "cell_type": "code",
   "execution_count": 5,
   "metadata": {},
   "outputs": [
    {
     "name": "stdout",
     "output_type": "stream",
     "text": [
      "tool called : file_search, call_sJUt8RveK3gCbU6kHhP29OH7\n",
      "2023년 각 회사의 주력 상품은 다음과 같습니다.\n",
      "\n",
      "1. **Apple Inc.**:\n",
      "   - 1분기: iPad, iPad Pro, Apple TV 4K, Major League Soccer streaming service.\n",
      "   - 2분기: MacBook Pro 14\", MacBook Pro 16\", Mac mini, HomePod.\n",
      "   - 3분기: MacBook Air 15\", Mac Studio, Mac Pro, Apple Vision Pro, iOS 및 macOS 업데이트.\n",
      "   - 4분기: iPhone 15 시리즈, Apple Watch Series 9, Apple Watch Ultra 2【5:1†apple-10-k-2023.pdf】.\n",
      "\n",
      "2. **삼성전자**:\n",
      "   - 5G NR 및 FDD RU 제품, 듀얼 밴드 Massive MIMO MMU, 3.5GHz CBRS NR Strand Smallcell, LPDDR5X D램【5:3†삼성전자 사업보고서】.\n",
      "   - 메모리카드 'PRO Ultimate', Automotive향 메모리 토탈 솔루션, 초저전력 차량용 UFS 3.1【5:7†삼성전자 사업보고서】.\n",
      "\n",
      "3. **현대자동차**:\n",
      "   - 아이오닉 5(NE), 베르나(BN7i)【5:5†현대자동차 사업보고서】.\n",
      "\n",
      "4. **LG전자**:\n",
      "   - OLED TV, QNED TV【5:8†LG전자 사업보고서】.\n",
      "\n",
      "각 자료에서 확인된 정보를 바탕으로 이들 제품들이 각 회사의 2023년 주력 상품임을 알 수 있습니다.\n",
      "\n",
      "annotations >>\n",
      "\n",
      "【5:1†apple-10-k-2023.pdf】 apple-10-k-2023.pdf 340 365\n",
      "【5:3†삼성전자 사업보고서】 [삼성전자]사업보고서(2024.03.12).pdf 472 488\n",
      "【5:7†삼성전자 사업보고서】 [삼성전자]사업보고서(2024.03.12).pdf 557 573\n",
      "【5:5†현대자동차 사업보고서】 [현대자동차]사업보고서(2024.03.13).pdf 616 633\n",
      "【5:8†LG전자 사업보고서】 [LG전자]사업보고서(2024.03.18).pdf 670 686\n"
     ]
    }
   ],
   "source": [
    "# 3. 사용자 메시지 생성\n",
    "message = client.beta.threads.messages.create(\n",
    "    thread_id=thread.id,\n",
    "    role=\"user\",\n",
    "    content=\"데이터의 각 회사가 발행한 주식의 수를 비교하시오.\"\n",
    ")\n",
    "\n",
    "message = client.beta.threads.messages.create(\n",
    "    thread_id=thread.id,\n",
    "    role=\"user\",\n",
    "    content=\"각 회사의 2023년 주력 상품은 무엇이었나요?\"\n",
    ")\n",
    "\n",
    "# 4. 런 생성 및 결과 대기\n",
    "run = client.beta.threads.runs.create_and_poll(\n",
    "    thread_id=thread.id,\n",
    "    assistant_id=assistant.id\n",
    ")\n",
    "\n",
    "# 5. 런 상태 확인 및 런 스탭 내용 확인\n",
    "if \"completed\" == run.status:\n",
    "    run_steps = client.beta.threads.runs.steps.list(\n",
    "        thread_id=thread.id,\n",
    "        run_id=run.id,\n",
    "        order=\"asc\"\n",
    "    )\n",
    "    \n",
    "    df_run_steps = pd.DataFrame([data.__dict__ for data in run_steps.data])\n",
    "    for details in df_run_steps[\"step_details\"]:\n",
    "        if \"tool_calls\" == details.type:\n",
    "            for tool_call in details.tool_calls:\n",
    "                print(f\"tool called : {tool_call.type}, {tool_call.id}\")\n",
    "                \n",
    "        elif \"message_creation\" == details.type:\n",
    "            msgid = details.message_creation.message_id\n",
    "            msg = client.beta.threads.messages.retrieve(\n",
    "                thread_id=thread.id,\n",
    "                message_id=msgid\n",
    "            )\n",
    "\n",
    "            for content in msg.content:\n",
    "                print(content.text.value)\n",
    "                print(\"\\nannotations >>\\n\")\n",
    "                for annot in content.text.annotations:\n",
    "                    file = client.files.retrieve(file_id=annot.file_citation.file_id)\n",
    "                    print(annot.text, file.filename, annot.start_index, annot.end_index)\n",
    "else:\n",
    "    print(run.status)"
   ]
  },
  {
   "cell_type": "code",
   "execution_count": 6,
   "metadata": {},
   "outputs": [
    {
     "name": "stdout",
     "output_type": "stream",
     "text": [
      "assistant deleted: True\n",
      "thread deleted: True\n"
     ]
    }
   ],
   "source": [
    "# 6. 어시스턴트 삭제\n",
    "res = client.beta.assistants.delete(\n",
    "    assistant_id=assistant.id\n",
    ")\n",
    "print(f\"assistant deleted: {res.deleted}\")\n",
    "\n",
    "# 7. 스레드 삭제\n",
    "res = client.beta.threads.delete(\n",
    "    thread_id=thread.id\n",
    ")\n",
    "print(f\"thread deleted: {res.deleted}\")\n"
   ]
  }
 ],
 "metadata": {
  "kernelspec": {
   "display_name": "Python 3 (ipykernel)",
   "language": "python",
   "name": "python3"
  },
  "language_info": {
   "codemirror_mode": {
    "name": "ipython",
    "version": 3
   },
   "file_extension": ".py",
   "mimetype": "text/x-python",
   "name": "python",
   "nbconvert_exporter": "python",
   "pygments_lexer": "ipython3",
   "version": "3.11.9"
  }
 },
 "nbformat": 4,
 "nbformat_minor": 4
}
